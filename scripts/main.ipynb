{
 "cells": [
  {
   "cell_type": "markdown",
   "id": "bf69864a-23bd-4506-aca8-556531e621db",
   "metadata": {
    "jp-MarkdownHeadingCollapsed": true
   },
   "source": [
    "&nbsp;\n",
    "# **Airbnb vs Long-Term Rental Price Analysis**\n",
    "\n",
    "# Goal\n",
    "\n",
    "To assess how the concentration of short‑term rentals correlates with neighborhood rental‑price trends in Paris & London cities by integrating and analyzing public housing and Airbnb datasets.\n",
    "\n",
    "# Table of Contents\n",
    "\n",
    "1. Setup\n",
    "   - Import utility functions (Plotters & parsers)\n",
    "   - Load Paris Data\n",
    "   - Load London Data\n",
    "\n",
    "2. Comparative Analysis \n",
    "   - What are the Airbnb densities in Paris & London? \n",
    "   - What are the long term rental price increase in Paris & London?  \n",
    "\n",
    "3. Data Exploration \n",
    "   - Market Structure \n",
    "   - The plot twist \n",
    "   - Let’s do a simple polynomial regression \n",
    "   - What is the best polynomial degree to fit these data points? \n",
    "   - Can we get a better sense of this trend?\n",
    "   - And an even better?\n",
    "   - What are the correlations?\n",
    "   - Optional observation for London\n",
    "\n",
    "4. Conclusions\n",
    "\n",
    "5. Open‑ended Challenge\n",
    "\n",
    "&nbsp;"
   ]
  },
  {
   "cell_type": "markdown",
   "id": "26cb3c38-1843-4a75-b129-7cbaf6c66000",
   "metadata": {},
   "source": [
    "&nbsp;\n",
    "# 1) Setup\n",
    "&nbsp;"
   ]
  },
  {
   "cell_type": "code",
   "execution_count": null,
   "id": "6bd2b53b-9dd2-4ff9-b0c4-4acdc04955cf",
   "metadata": {},
   "outputs": [],
   "source": [
    "%load_ext autoreload\n",
    "%autoreload 2\n",
    "import json\n",
    "import numpy as np\n",
    "import pandas as pd\n",
    "import geopandas as gpd\n",
    "import matplotlib.pyplot as plt\n",
    "from shapely.geometry import shape, Point\n",
    "from sklearn.preprocessing import PolynomialFeatures\n",
    "from sklearn.linear_model import LinearRegression\n",
    "from sklearn.model_selection import cross_validate, KFold\n",
    "from sklearn.metrics import r2_score\n",
    "import seaborn as sns\n",
    "from scipy.stats import pearsonr"
   ]
  },
  {
   "cell_type": "markdown",
   "id": "b2c0bc86-0176-4993-8386-1987e0a70f8f",
   "metadata": {},
   "source": [
    "&nbsp;\n",
    "## Load utility functions (Plotters & parsers)\n",
    "#### Located in the ```utils.py``` file\n",
    "&nbsp;"
   ]
  },
  {
   "cell_type": "code",
   "execution_count": null,
   "id": "73367d26-f064-446d-8e5b-3f34a3a97cc0",
   "metadata": {},
   "outputs": [],
   "source": [
    "from utils import *"
   ]
  },
  {
   "cell_type": "markdown",
   "id": "d5aebc36-efca-45d4-b40e-b38a975f044c",
   "metadata": {},
   "source": [
    "&nbsp;\n",
    "## Load Paris Data\n",
    "###### Data fetched from :\n",
    "###### https://www.data.gouv.fr/fr/datasets/logement-encadrement-des-loyers/#:~:text=Ce%20jeu%20de%20donn%C3%A9es%20pr%C3%A9sente,des%20ann%C3%A9es%20pr%C3%A9c%C3%A9dentes%20est%20conserv%C3%A9\n",
    "###### https://insideairbnb.com\n",
    "&nbsp;"
   ]
  },
  {
   "cell_type": "code",
   "execution_count": null,
   "id": "81b51812-ee0a-409a-9438-a578a3ecca1c",
   "metadata": {},
   "outputs": [],
   "source": [
    "def load_paris_data():\n",
    "    print(\"\\n\" + \"=\"*50)\n",
    "    print(\"LOADING PARIS DATA\")\n",
    "    print(\"=\"*50)\n",
    "\n",
    "    # File paths\n",
    "    csv_rentals = \"../data/paris/paris_rentals.csv\"\n",
    "    csv_airbnb = \"../data/paris/paris_airbnb.csv\"\n",
    "\n",
    "    df_rentals_initial = pd.read_csv(csv_rentals, \n",
    "                                     delimiter=';', \n",
    "                                     on_bad_lines='skip', \n",
    "                                     encoding='utf-8')\n",
    "    \n",
    "    # Use fine grid neighborhoods from rentals data (geojson is given)\n",
    "    df_neigh = df_rentals_initial.drop_duplicates(subset=\"Numéro du quartier\")\n",
    "    df_neigh = df_neigh[[\"Numéro du quartier\", \"geo_shape\"]]\n",
    "    print(f\"Number of unique Paris neighborhoods: {len(df_neigh)}\")\n",
    "    \n",
    "    # Rename and convert the GeoJSON geometry to Shapely objects\n",
    "    df_neigh.rename(columns={\"Numéro du quartier\": \"neigh_id\"}, inplace=True)\n",
    "    df_neigh[\"geometry\"] = df_neigh[\"geo_shape\"].apply(convert_geojson_to_shape)\n",
    "    gdf_neigh = gpd.GeoDataFrame(df_neigh, geometry=\"geometry\", crs=\"EPSG:4326\")\n",
    "    \n",
    "    # Load Paris Airbnb data\n",
    "    df_airbnb = pd.read_csv(csv_airbnb, \n",
    "                            delimiter=',', \n",
    "                            on_bad_lines='skip', \n",
    "                            encoding='utf-8')\n",
    "    \n",
    "    # Create point geometry from latitude and longitude\n",
    "    df_airbnb['geometry'] = df_airbnb.apply(lambda row: create_point_from_coords(row, 7, 6), axis=1)\n",
    "    df_airbnb = df_airbnb[df_airbnb['geometry'].notnull()]\n",
    "    gdf_airbnb = gpd.GeoDataFrame(df_airbnb, geometry='geometry', crs=\"EPSG:4326\")\n",
    "    \n",
    "    # Spatial join: assign Airbnb listings to neighborhoods\n",
    "    gdf_airbnb_joined = gpd.sjoin(gdf_airbnb, gdf_neigh, how='left', predicate='within')\n",
    "    airbnb_counts = gdf_airbnb_joined.groupby('neigh_id').size().reset_index(name='airbnb_count')\n",
    "    gdf_neigh = gdf_neigh.merge(airbnb_counts, on='neigh_id', how='left')\n",
    "    gdf_neigh['airbnb_count'] = gdf_neigh['airbnb_count'].fillna(0).astype(int)\n",
    "    \n",
    "    # Compute area in km² and calculate density\n",
    "    gdf_neigh['area_km2'] = gdf_neigh.to_crs(epsg=3857).area / 1e6\n",
    "    gdf_neigh['airbnb_density'] = gdf_neigh['airbnb_count'] / gdf_neigh['area_km2']\n",
    "    print(f\"Total number of Airbnb listings in Paris: {len(gdf_airbnb)}\")\n",
    "    \n",
    "    # Filter rental data by year\n",
    "    df_rentals_2024 = df_rentals_initial[df_rentals_initial.iloc[:, 0] == 2024].copy()\n",
    "    df_rentals_2019 = df_rentals_initial[df_rentals_initial.iloc[:, 0] == 2019].copy()\n",
    "    \n",
    "    # Parse coordinates and rental prices\n",
    "    df_rentals_2024['geometry'] = df_rentals_2024.iloc[:, 13].apply(parse_paris_coords)\n",
    "    df_rentals_2019['geometry'] = df_rentals_2019.iloc[:, 13].apply(parse_paris_coords)\n",
    "    \n",
    "    # Rental price is in column index 7\n",
    "    df_rentals_2024['rental_price'] = pd.to_numeric(df_rentals_2024.iloc[:, 7], errors='coerce')\n",
    "    df_rentals_2019['rental_price'] = pd.to_numeric(df_rentals_2019.iloc[:, 7], errors='coerce')\n",
    "    \n",
    "    # Filter valid entries\n",
    "    df_rentals_2024 = df_rentals_2024[df_rentals_2024['geometry'].notnull() & df_rentals_2024['rental_price'].notnull()]\n",
    "    df_rentals_2019 = df_rentals_2019[df_rentals_2019['geometry'].notnull() & df_rentals_2019['rental_price'].notnull()]\n",
    "    \n",
    "    # Create GeoDataFrames in preparation for spatial join\n",
    "    gdf_rentals_2024 = gpd.GeoDataFrame(df_rentals_2024, geometry='geometry', crs=\"EPSG:4326\")\n",
    "    gdf_rentals_2019 = gpd.GeoDataFrame(df_rentals_2019, geometry='geometry', crs=\"EPSG:4326\")\n",
    "    \n",
    "    # Spatial join rentals to neighborhoods\n",
    "    gdf_rentals_2024_joined = gpd.sjoin(gdf_rentals_2024, gdf_neigh, how='left', predicate='within')\n",
    "    gdf_rentals_2019_joined = gpd.sjoin(gdf_rentals_2019, gdf_neigh, how='left', predicate='within')\n",
    "    \n",
    "    # Calculate average prices for each neighborhood\n",
    "    avg_prices_2024 = gdf_rentals_2024_joined.groupby('neigh_id')['rental_price'].mean().reset_index(name='avg_rental_price_2024')\n",
    "    gdf_neigh = gdf_neigh.merge(avg_prices_2024, on='neigh_id', how='left')\n",
    "    gdf_neigh['avg_rental_price_2024'] = gdf_neigh['avg_rental_price_2024'].fillna(0)\n",
    "    \n",
    "    avg_prices_2019 = gdf_rentals_2019_joined.groupby('neigh_id')['rental_price'].mean().reset_index(name='avg_rental_price_2019')\n",
    "    gdf_neigh = gdf_neigh.merge(avg_prices_2019, on='neigh_id', how='left')\n",
    "    gdf_neigh['avg_rental_price_2019'] = gdf_neigh['avg_rental_price_2019'].fillna(0)\n",
    "    \n",
    "    # Compute rental price increase (2024 - 2019)\n",
    "    gdf_neigh['price_increase'] = gdf_neigh['avg_rental_price_2024'] - gdf_neigh['avg_rental_price_2019']\n",
    "    \n",
    "    return gdf_neigh"
   ]
  },
  {
   "cell_type": "markdown",
   "id": "5e761924-85ff-418a-8b35-e0f8fec3ae0b",
   "metadata": {},
   "source": [
    "&nbsp;\n",
    "## Load London Data\n",
    "###### Data fetched from :\n",
    "###### https://data.london.gov.uk/dataset/average-private-rents-borough\n",
    "###### https://insideairbnb.com\n",
    "&nbsp;"
   ]
  },
  {
   "cell_type": "code",
   "execution_count": null,
   "id": "b16d1aeb-2deb-4d79-b70c-fac6b1d3a022",
   "metadata": {},
   "outputs": [],
   "source": [
    "def load_london_data():\n",
    "    print(\"\\n\" + \"=\"*50)\n",
    "    print(\"LOADING LONDON DATA\")\n",
    "    print(\"=\"*50)\n",
    "    \n",
    "    # File paths\n",
    "    excel_rentals = \"../data/london/london_rentals.xls\"\n",
    "    csv_airbnb = \"../data/london/london_airbnb.csv\"\n",
    "    geojson_neigh = \"../data/london/london_neighbourhoods.geojson\"\n",
    "    \n",
    "    # Load Airbnb listings\n",
    "    df_airbnb = pd.read_csv(csv_airbnb, encoding=\"utf-8\")\n",
    "    \n",
    "    # Build GeoDataFrame for Airbnb data\n",
    "    DF = df_airbnb.copy()\n",
    "    DF['geometry'] = DF.apply(lambda row: create_point_from_coords(row, 7, 6), axis=1)\n",
    "    DF = DF[DF['geometry'].notnull()]\n",
    "    gdf_airbnb = gpd.GeoDataFrame(DF, geometry='geometry', crs='EPSG:4326')\n",
    "    \n",
    "    # Load and process rental data\n",
    "    # positional column indices in the Excel\n",
    "    YEAR_COL, QUARTER_COL, NEIGH_COL, CATEGORY_COL, PRICE_COL = 0, 1, 3, 4, 6\n",
    "    NEIGH_NAME = 'neighbourhood'\n",
    "    \n",
    "    # read raw rentals sheet\n",
    "    raw = pd.read_excel(excel_rentals, sheet_name=\"Raw data\", header=None)\n",
    "    raw.rename(columns={NEIGH_COL: NEIGH_NAME}, inplace=True)\n",
    "    \n",
    "    # filter by years, Q1, all categories\n",
    "    df_filt = raw[(raw.iloc[:, YEAR_COL].isin([LONDON_START_YEAR, LONDON_END_YEAR])) &\n",
    "                   (raw.iloc[:, QUARTER_COL]=='Q1') &\n",
    "                   (raw.iloc[:, CATEGORY_COL]=='All categories')].copy()\n",
    "    \n",
    "    # parse price and drop NAs\n",
    "    df_filt[PRICE_COL] = pd.to_numeric(df_filt.iloc[:, PRICE_COL], errors='coerce')\n",
    "    df_filt.dropna(subset=[NEIGH_NAME, PRICE_COL], inplace=True)\n",
    "    \n",
    "    # average price per neighbourhood per year\n",
    "    avg_start = df_filt[df_filt.iloc[:, YEAR_COL]==LONDON_START_YEAR]\n",
    "    avg_start = avg_start.groupby(NEIGH_NAME)[PRICE_COL].mean().reset_index(name=f\"avg_price_{LONDON_START_YEAR}\")\n",
    "    avg_end = df_filt[df_filt.iloc[:, YEAR_COL]==LONDON_END_YEAR]\n",
    "    avg_end = avg_end.groupby(NEIGH_NAME)[PRICE_COL].mean().reset_index(name=f\"avg_price_{LONDON_END_YEAR}\")\n",
    "    \n",
    "    # merge average prices\n",
    "    df_rentals = pd.merge(avg_start, avg_end, on=NEIGH_NAME, how='outer').fillna(0)\n",
    "    \n",
    "    # compute price change always\n",
    "    df_rentals['price_change'] = df_rentals[f\"avg_price_{LONDON_END_YEAR}\"] - df_rentals[f\"avg_price_{LONDON_START_YEAR}\"]\n",
    "    \n",
    "    # Merge with neighbourhood geometries and compute Airbnb density\n",
    "    gdf_neigh = gpd.read_file(geojson_neigh)\n",
    "    gdf_neigh = gdf_neigh.merge(df_rentals, on=NEIGH_NAME, how='left').fillna(0)\n",
    "    joined = gpd.sjoin(gdf_airbnb, gdf_neigh, how='left', predicate='within')\n",
    "    counts = joined.groupby('neighbourhood_right').size().reset_index(name='airbnb_count')\n",
    "    counts.rename(columns={'neighbourhood_right':'neighbourhood'}, inplace=True)\n",
    "    gdf_neigh = gdf_neigh.merge(counts, on='neighbourhood', how='left').fillna({'airbnb_count':0})\n",
    "    gdf_neigh['area_km2'] = gdf_neigh.to_crs(epsg=3857).area / 1e6\n",
    "    gdf_neigh['airbnb_density'] = gdf_neigh['airbnb_count'] / gdf_neigh['area_km2']\n",
    "    \n",
    "    print(f\"Number of unique London neighborhoods: {len(gdf_neigh)}\")\n",
    "    print(f\"Total Airbnb listings in London: {len(gdf_airbnb)}\")\n",
    "    \n",
    "    return gdf_neigh"
   ]
  },
  {
   "cell_type": "markdown",
   "id": "dadaad35-30cd-4d74-a737-acedc43f4274",
   "metadata": {},
   "source": [
    "&nbsp;\n",
    "# 2) Comparative Analysis\n",
    "&nbsp;"
   ]
  },
  {
   "cell_type": "code",
   "execution_count": null,
   "id": "8438eed1-f8ed-4723-900c-cd061366e0dd",
   "metadata": {},
   "outputs": [],
   "source": [
    "# Load data for both cities\n",
    "paris_data = load_paris_data()\n",
    "london_data = load_london_data()\n",
    "print(\"\\nOK\")"
   ]
  },
  {
   "cell_type": "markdown",
   "id": "12d9c740-66fe-4db3-a53f-c60edb78a5d8",
   "metadata": {},
   "source": [
    "&nbsp;\n",
    "## What are the Airbnb densities in Paris & London ?\n",
    "&nbsp;"
   ]
  },
  {
   "cell_type": "code",
   "execution_count": null,
   "id": "17271838-9827-4b21-9ecb-e5dcc52d6786",
   "metadata": {},
   "outputs": [],
   "source": [
    "# 1. Airbnb Density Maps\n",
    "fig, axes = plt.subplots(1, 2, figsize=(18, 8))\n",
    "\n",
    "paris_data.plot(column='airbnb_density', cmap='Blues', legend=True, ax=axes[0], edgecolor='black')\n",
    "axes[0].set_title('Paris: Airbnb Density (listings/km²)')\n",
    "\n",
    "london_data.plot(column='airbnb_density', cmap='Greens', legend=True, ax=axes[1], edgecolor='black')\n",
    "axes[1].set_title('London: Airbnb Density (listings/km²)')\n",
    "\n",
    "plt.tight_layout()\n",
    "plt.show()"
   ]
  },
  {
   "cell_type": "markdown",
   "id": "f6a29133-c7ea-4455-9a57-25975e79fc14",
   "metadata": {},
   "source": [
    "&nbsp;\n",
    "## What are the long term rental price increase in Paris & London ?\n",
    "&nbsp;"
   ]
  },
  {
   "cell_type": "code",
   "execution_count": null,
   "id": "dc45d47f-40fb-4467-9c23-c2e13c110a37",
   "metadata": {},
   "outputs": [],
   "source": [
    "# 2. Rental Price Increase Maps\n",
    "fig, axes = plt.subplots(1, 2, figsize=(18, 8))\n",
    "\n",
    "paris_data.plot(column='price_increase', cmap='Blues', legend=True, ax=axes[0], edgecolor='black')\n",
    "axes[0].set_title('Paris: Rental Price Increase (2024 - 2019)')\n",
    "\n",
    "london_data.plot(column='price_change', cmap='Greens', legend=True, ax=axes[1], edgecolor='black')\n",
    "axes[1].set_title(f'London: Rental Price Change ({LONDON_END_YEAR}–{LONDON_START_YEAR})')\n",
    "\n",
    "plt.tight_layout()\n",
    "plt.show()"
   ]
  },
  {
   "cell_type": "markdown",
   "id": "ac65c104-1076-4d4f-b3c6-e798b9817360",
   "metadata": {},
   "source": [
    "&nbsp;\n",
    "# 3) Data Exploration"
   ]
  },
  {
   "cell_type": "markdown",
   "id": "39585153-19f6-4702-9163-e8ccd0e5f266",
   "metadata": {},
   "source": [
    "## Market Structure"
   ]
  },
  {
   "cell_type": "code",
   "execution_count": null,
   "id": "f93c8a72-ffa4-4296-9cc0-15c90a247e8d",
   "metadata": {},
   "outputs": [],
   "source": [
    "# 3. Density Distribution Comparison\n",
    "fig, ax = plot_density_distribution_comparison(paris_data, london_data)\n",
    "plt.show()"
   ]
  },
  {
   "cell_type": "markdown",
   "id": "6e6dd12e-bf19-44d3-a19a-710def1741ae",
   "metadata": {},
   "source": [
    "Right-skewed distributions suggest a few neighborhoods with very high Airbnb concentration, which might represent two distinct type of neighbourhoods : tourist vs residential.\n",
    "&nbsp;\n",
    "## How does the Airbnb density compare to rental price increase ?\n",
    "&nbsp;"
   ]
  },
  {
   "cell_type": "code",
   "execution_count": null,
   "id": "5ff6c86f-a57f-4601-80f8-9a3585a01427",
   "metadata": {},
   "outputs": [],
   "source": [
    "# 4. Scatter Plot: Airbnb Density vs Price Increase\n",
    "fig, axes = plot_airbnb_density_scatter_comparison(paris_data, london_data)\n",
    "plt.show()"
   ]
  },
  {
   "cell_type": "markdown",
   "id": "ae151dbc-f0e9-4204-ab68-d8b5916ab370",
   "metadata": {},
   "source": [
    "&nbsp;\n",
    "## Let's do a simple polynomial regression\n",
    "### With cross validation to find the best degree of approximation\n",
    "&nbsp;"
   ]
  },
  {
   "cell_type": "code",
   "execution_count": null,
   "id": "a37a5715-6385-429c-9f9d-c84d44347918",
   "metadata": {},
   "outputs": [],
   "source": [
    "# 5. Bias-Variance Trade-off Analysis\n",
    "paris_X = paris_data['price_increase'].values.reshape(-1, 1)\n",
    "paris_Y = paris_data['airbnb_density'].values\n",
    "paris_cv_results = fit_polynomial_models(paris_X, paris_Y)\n",
    "print(\"\\nParis Cross-validation results:\")\n",
    "print(paris_cv_results)\n",
    "\n",
    "london_X = london_data['price_change'].values.reshape(-1, 1)\n",
    "london_Y = london_data['airbnb_density'].values\n",
    "london_cv_results = fit_polynomial_models(london_X, london_Y)\n",
    "print(\"\\nLondon Cross-validation results:\")\n",
    "print(london_cv_results)\n",
    "\n",
    "fig, axes = plot_bias_variance_tradeoff_comparison(paris_cv_results, london_cv_results)\n",
    "plt.show()"
   ]
  },
  {
   "cell_type": "markdown",
   "id": "9ca64cc6-f4b5-446a-a822-c3db2c313733",
   "metadata": {},
   "source": [
    "&nbsp;\n",
    "## What is the best polynomial degree to fit theses datapoints ?\n",
    "&nbsp;"
   ]
  },
  {
   "cell_type": "code",
   "execution_count": null,
   "id": "86b32030-c8aa-4344-946b-5da43546aa58",
   "metadata": {},
   "outputs": [],
   "source": [
    "# Fit best models for both Paris and London\n",
    "paris_best_deg, paris_poly, paris_model, paris_r = fit_best_model(paris_X, paris_Y, paris_cv_results)\n",
    "london_best_deg, london_poly, london_model, london_r = fit_best_model(london_X, london_Y, london_cv_results)\n",
    "\n",
    "print(f\"Best Polynomial Degree for Paris : {paris_best_deg}\")\n",
    "print(f\"Best Polynomial Degree for London : {london_best_deg}\")\n",
    "# 6. Plot polynomial regression comparison\n",
    "fig, axes = plot_polynomial_regression_comparison(\n",
    "    paris_X, paris_Y, paris_poly, paris_model, paris_r, paris_best_deg,\n",
    "    london_X, london_Y, london_poly, london_model, london_r, london_best_deg\n",
    ")\n",
    "plt.show()"
   ]
  },
  {
   "cell_type": "markdown",
   "id": "fb011a5f-d284-496f-95bf-e86ff0c55759",
   "metadata": {},
   "source": [
    "&nbsp;\n",
    "## Can we get a better sens of this tends ?\n",
    "### Using a box plot\n",
    "&nbsp;"
   ]
  },
  {
   "cell_type": "code",
   "execution_count": null,
   "id": "9ca43160-491f-4bdc-8905-d2c515b6c166",
   "metadata": {},
   "outputs": [],
   "source": [
    "# 7. Box Plots - with 5 bins\n",
    "paris_data['price_increase_bin'] = pd.qcut(paris_data['price_increase'], q=5, duplicates='drop')\n",
    "london_data['price_bin'] = pd.qcut(london_data['price_change'], q=5, duplicates='drop')\n",
    "\n",
    "plot_boxplot_comparison(paris_data, london_data)\n",
    "plt.show()"
   ]
  },
  {
   "cell_type": "markdown",
   "id": "0606efe0-738e-4492-a56c-b01ef014e316",
   "metadata": {},
   "source": [
    "&nbsp;\n",
    "## And an even better ?\n",
    "### By plotting the median of each bins of the box plots\n",
    "&nbsp;"
   ]
  },
  {
   "cell_type": "code",
   "execution_count": null,
   "id": "86a75551-556c-4765-a248-68e79c26c494",
   "metadata": {},
   "outputs": [],
   "source": [
    "# 8. Regression on Binned Data\n",
    "plot_quadratic_fit_comparison(paris_data, london_data, paris_best_deg, london_best_deg)\n",
    "plt.show()"
   ]
  },
  {
   "cell_type": "markdown",
   "id": "5af5c4c3-6d74-4689-9a18-e9a49c837449",
   "metadata": {},
   "source": [
    "&nbsp;\n",
    "## What are the correlations ?\n",
    "### By using Pearson correlation\n",
    "The Pearson correlation coefficient encapsulates in a single value between –1 and 1 the strength and direction of a straight‑line relationship: +1 denotes perfect positive alignment, –1 perfect negative alignment, and 0 no linear connection. It could potentially embedded more information than the R² term.\n",
    "&nbsp;"
   ]
  },
  {
   "cell_type": "code",
   "execution_count": null,
   "id": "21d377bb-c343-4d9c-9d87-cf39cfa616c3",
   "metadata": {},
   "outputs": [],
   "source": [
    "# 9. Pearson Correlation Comparison\n",
    "paris_corr, paris_pvalue = pearsonr(paris_data['price_increase'], paris_data['airbnb_density'])\n",
    "london_corr, london_pvalue = pearsonr(london_data['price_change'], london_data['airbnb_density'])\n",
    "\n",
    "# Create correlation bar chart\n",
    "plot_correlation_bar_chart(paris_corr, london_corr, paris_pvalue, london_pvalue)\n",
    "plt.show()\n",
    "\n",
    "significant_paris = paris_pvalue < 0.05\n",
    "significant_london = london_pvalue < 0.05\n",
    "\n",
    "print(\"\\nParis Analysis:\")\n",
    "print(f\"- The correlation coefficient between Price Increase and Airbnb Density of {paris_corr:.3f} is {'statistically significant' if significant_paris else 'not statistically significant'}\")\n",
    "print(f\"- Neighborhoods with {'higher' if paris_corr > 0 else 'lower'} rental price changes tend to have {'higher' if paris_corr > 0 else 'lower'} Airbnb density\")\n",
    "\n",
    "print(\"\\nLondon Analysis:\")\n",
    "print(f\"- The correlation coefficient between Price Increase and Airbnb Density of {london_corr:.3f} is {'statistically significant' if significant_london else 'not statistically significant'}\")\n",
    "print(f\"- Neighborhoods with {'higher' if london_corr > 0 else 'lower'} rental price changes tend to have {'higher' if london_corr > 0 else 'lower'} Airbnb density\")\n",
    "\n",
    "print(\"\\nComparison:\")\n",
    "if (paris_corr > 0) == (london_corr > 0):\n",
    "    print(\"- Both cities show a similar directional relationship between rental price changes and Airbnb density\")\n",
    "else:\n",
    "    print(\"- The cities show opposite directional relationships between rental price changes and Airbnb density\")\n",
    "\n",
    "print(\"- Paris shows a\", abs(paris_corr) > abs(london_corr) and \"stronger\" or \"weaker\", \"correlation than London\")"
   ]
  },
  {
   "cell_type": "markdown",
   "id": "26166b53-41e8-4e32-b3e6-f87e8c0c987e",
   "metadata": {},
   "source": [
    "&nbsp;\n",
    "## Optional observation For London\n",
    "&nbsp;"
   ]
  },
  {
   "cell_type": "code",
   "execution_count": null,
   "id": "fb9c38a4-8101-46bc-99cf-fc2bca8ba7d3",
   "metadata": {},
   "outputs": [],
   "source": [
    "# 10. London: Price Change vs Latest Price Comparison\n",
    "fig, axes = plot_london_price_comparisons(london_data, london_best_deg)\n",
    "plt.show()\n",
    "print(secret_observation)"
   ]
  },
  {
   "cell_type": "markdown",
   "id": "c5c73fbf-ce94-4ef0-bd57-7e9c5ef58cf6",
   "metadata": {},
   "source": [
    "&nbsp;\n",
    "# 4) Conclusions\n",
    "\n",
    "In **Paris**, short‑term rental density peaks in neighbourhoods with **moderate** rental‑price increases (approximately 1.4–2 €/m²) and then declines in the areas experiencing the **lowest** and **highest** price growth.\n",
    "\n",
    "In **London**, Airbnb density rises **consistently** across quintiles of rental‑price change, with median densities climbing from around 6 to 80 listings/km² and extreme values approaching 200 listings/km². The nearly monotonic increase indicates a moderate but direct link between stronger market growth and short‑term rental concentration.\n",
    "\n",
    "Across both cities, these findings demonstrate a positive association between short‑term rentals and rental‑market prices, implying that Airbnb both follows and may contribute to rising rents. To address housing affordability concerns, further data analyses including controls for tourism, housing supply, and regulatory policies are essential for establishing causation and informing targeted interventions.  "
   ]
  },
  {
   "cell_type": "markdown",
   "id": "285ad7d4-780b-4e49-883c-71617076e6d7",
   "metadata": {},
   "source": [
    "&nbsp;\n",
    "# 5) Open-ended Challenge\n",
    "\n",
    "Assuming London is experiencing a higher increase in\n",
    "rental prices than Paris. How would one try to explain that incremental\n",
    "difference?\n",
    "\n",
    "## a. What would be useful to explain that difference\n",
    "\n",
    "#### 1. Law and Regulations\n",
    "Example: Barcelona's proposed ban on short-term rentals could slow market growth ([Cities Today](https://cities-today.com/barcelona-set-to-ban-short-term-rentals/)). London or Paris might as well edict regulations.\n",
    "\n",
    "#### 2. Public Opinion (Cultural Factors)\n",
    "Indicators: Google Trends data, hashtags on social media platforms tracking evolving sentiment toward short-term rentals.\n",
    "\n",
    "#### 3. Airbnb Occupancy Rates and Growth Dynamics\n",
    "Data tracking Airbnb listings, occupancy rates, booking frequencies, and overall growth trends.\n",
    "\n",
    "#### 4. GDP and Macroeconomic Factors\n",
    "Regions with robust GDP growth and high employment levels support greater renter purchasing power, increasing rental market competition and prices.\n",
    "\n",
    "#### 5. Local Infrastructure Dynamics\n",
    "Impact of openings or closures of major cultural venues, tech campuses, or other significant attractions influencing nearby rental markets.\n",
    "\n",
    "#### 6. Transportation Infrastructure\n",
    "Influence of changes in airport operations and flight availability. I have this example in mind: Potential withdrawal of Ryanair from Carcassonne Airport, which may significantly affect local tourism and rental demand ([L’Indépendant](https://www.lindependant.fr/2025/03/18/la-compagnie-aerienne-ryanair-va-t-elle-se-retirer-de-laeroport-de-carcassonne-12577376.php)).\n",
    "\n",
    "#### 7. Taxation and Mortgage Rates\n",
    "Increased property-transaction taxes or mortgage-interest rates raise costs of ownership, pushing more households into rental markets and boosting rental demand.\n",
    "\n",
    "#### 8. Age Distribution of the Population\n",
    "Younger demographics, especially students and recent graduates, increase rental turnover and demand; ageing populations typically stabilize or reduce rental pressure.\n",
    "\n",
    "#### 9. Demographics and Migration Flows\n",
    "High net in-migration from domestic or international sources, coupled with high household-formation rates, intensifies demand and rental market pressures.\n",
    "\n",
    " \n",
    "\n",
    "\n",
    "\n",
    "&nbsp;\n",
    "\n",
    "## b. Investigation and analytical structure \n",
    "\n",
    "1. **Data Acquisition**  \n",
    "   | Theme                  | Key Artifacts                          | Source & Frequency                                   | \n",
    "   |------------------------|--------------------------------------------------|------------------------------------------------------|\n",
    "   | *Rent & Housing*       | Median asking rents, hedonic rent index, housing starts | Zoopla API (UK), SeLoger API (FR) – monthly          |\n",
    "   | *Short‑Let Dynamics*   | Airbnb active listings, occupancy, RevPAR        | AirDNA – quarterly                                      |\n",
    "   | *Regulation Timeline*  | Rent caps, tax changes                  | City council minutes, gov sites – event dates         |\n",
    "   | *Public Sentiment*     | Google Trends scores, Instagram/X hashtag counts    | Google Trends, Brandwatch – weekly                    |\n",
    "   | *Macro & Labour*       | GDP, unemployment, mortgage rate, CPI             | ONS (UK), INSEE/Eurostat (FR) – quarterly             |\n",
    "   | *Population Movers*    | Net migration, student enrolments, Population age                 | Eurostat city stats – annual                          |\n",
    "   | *Narrative Signals*    | Scrap top housing journal headlines and dates                          | Guardian, Le Monde,... – daily                        |\n",
    "\n",
    "2. **Data Preparation**  \n",
    "   - Harmonise geography (Greater London vs. Île‑de‑France) and time unit (quarters).  \n",
    "   - Clean & fill gaps (like interpolate annual data; flag policy‑change quarters).  \n",
    "   - Create simple lags (1 quarter) and interaction flags where relevant.\n",
    "\n",
    "3. **Exploratory Analysis**  \n",
    "   - Plot rent‑growth curves side by side to confirm the London–Paris gap.  \n",
    "   - Compute correlations between rent growth and each driver.  \n",
    "   - Note any sharp deviations around known events (policy roll‑outs, infrastructure openings).\n",
    "\n",
    "4. **Attribution Check**  \n",
    "   - For each candidate driver, calculate ΔDriver = Driver_London – Driver_Paris over the period.  \n",
    "   - Apply a simple elasticity (for example %Δrent / %Δdriver) to estimate each factor’s contribution to the rent‑growth gap.\n",
    "\n",
    "5. **Robustness & Sensitivity**  \n",
    "   - Swap rent measures (mean vs. median; furnished vs. unfurnished).  \n",
    "   - Flag extraordinary periods (Like COVID lockdown quarters).  \n",
    "   - Test one‑at‑a‑time hypothetical swaps (London under Paris rent‑cap values).\n",
    "\n",
    "6. **Synthesis & Communication**  \n",
    "   - Rank the top 2–3 drivers by their estimated gap contribution.  \n",
    "   - Visualise results with a simple bar chart: “Factor contributions to London–Paris rent gap.”  \n",
    "   - Summarise findings in a brief narrative:  \n",
    "     > “About 60 % of the higher rent price growth in London is explained by short‑let expansion and looser regulations, with mortgage‑cost shifts accounting for another 25 %.”  \n",
    "\n"
   ]
  },
  {
   "cell_type": "code",
   "execution_count": null,
   "id": "891f41ee-c947-4516-a8a5-3ee38a52b994",
   "metadata": {},
   "outputs": [],
   "source": []
  }
 ],
 "metadata": {
  "kernelspec": {
   "display_name": "Python 3 (ipykernel)",
   "language": "python",
   "name": "python3"
  },
  "language_info": {
   "codemirror_mode": {
    "name": "ipython",
    "version": 3
   },
   "file_extension": ".py",
   "mimetype": "text/x-python",
   "name": "python",
   "nbconvert_exporter": "python",
   "pygments_lexer": "ipython3",
   "version": "3.9.13"
  }
 },
 "nbformat": 4,
 "nbformat_minor": 5
}
